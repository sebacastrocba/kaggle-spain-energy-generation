{
 "cells": [
  {
   "attachments": {},
   "cell_type": "markdown",
   "metadata": {},
   "source": [
    "# Modeling: LightGBM Regressor"
   ]
  },
  {
   "cell_type": "code",
   "execution_count": 1,
   "metadata": {},
   "outputs": [],
   "source": [
    "import warnings\n",
    "warnings.filterwarnings('ignore')\n",
    "import pandas as pd\n",
    "import numpy as np\n",
    "import datetime\n",
    "import matplotlib.pyplot as plt\n",
    "import seaborn as sns\n",
    "from statsmodels.tsa.seasonal import STL\n",
    "from feature_engine.creation import CyclicalFeatures\n",
    "from feature_engine.transformation import LogCpTransformer\n",
    "from feature_engine.datetime import DatetimeFeatures\n",
    "from feature_engine.imputation import DropMissingData\n",
    "from feature_engine.selection import DropFeatures\n",
    "from feature_engine.timeseries.forecasting import (LagFeatures, WindowFeatures)\n",
    "from feature_engine.encoding import OneHotEncoder\n",
    "from feature_engine.wrappers import SklearnTransformerWrapper\n",
    "from sklearn.base import BaseEstimator, TransformerMixin, RegressorMixin\n",
    "from sklearn.pipeline import Pipeline\n",
    "from sklearn.model_selection import KFold\n",
    "from sklearn.metrics import (mean_squared_error, \n",
    "                             r2_score, \n",
    "                             mean_absolute_error, \n",
    "                             mean_absolute_percentage_error\n",
    "                            )\n",
    "import optuna\n",
    "optuna.logging.set_verbosity(optuna.logging.WARNING)\n",
    "import optuna.integration.lightgbm as lgb\n",
    "from lightgbm import early_stopping, log_evaluation\n",
    "import lightgbm as lgbm\n"
   ]
  },
  {
   "cell_type": "code",
   "execution_count": 2,
   "metadata": {},
   "outputs": [
    {
     "data": {
      "text/html": [
       "<div>\n",
       "<style scoped>\n",
       "    .dataframe tbody tr th:only-of-type {\n",
       "        vertical-align: middle;\n",
       "    }\n",
       "\n",
       "    .dataframe tbody tr th {\n",
       "        vertical-align: top;\n",
       "    }\n",
       "\n",
       "    .dataframe thead th {\n",
       "        text-align: right;\n",
       "    }\n",
       "</style>\n",
       "<table border=\"1\" class=\"dataframe\">\n",
       "  <thead>\n",
       "    <tr style=\"text-align: right;\">\n",
       "      <th></th>\n",
       "      <th>timestamp</th>\n",
       "      <th>generation_cleaned</th>\n",
       "    </tr>\n",
       "  </thead>\n",
       "  <tbody>\n",
       "    <tr>\n",
       "      <th>0</th>\n",
       "      <td>2014-12-31 23:00:00+00:00</td>\n",
       "      <td>1899.0</td>\n",
       "    </tr>\n",
       "    <tr>\n",
       "      <th>1</th>\n",
       "      <td>2015-01-01 00:00:00+00:00</td>\n",
       "      <td>1658.0</td>\n",
       "    </tr>\n",
       "    <tr>\n",
       "      <th>2</th>\n",
       "      <td>2015-01-01 01:00:00+00:00</td>\n",
       "      <td>1371.0</td>\n",
       "    </tr>\n",
       "    <tr>\n",
       "      <th>3</th>\n",
       "      <td>2015-01-01 02:00:00+00:00</td>\n",
       "      <td>779.0</td>\n",
       "    </tr>\n",
       "    <tr>\n",
       "      <th>4</th>\n",
       "      <td>2015-01-01 03:00:00+00:00</td>\n",
       "      <td>720.0</td>\n",
       "    </tr>\n",
       "  </tbody>\n",
       "</table>\n",
       "</div>"
      ],
      "text/plain": [
       "                  timestamp  generation_cleaned\n",
       "0 2014-12-31 23:00:00+00:00              1899.0\n",
       "1 2015-01-01 00:00:00+00:00              1658.0\n",
       "2 2015-01-01 01:00:00+00:00              1371.0\n",
       "3 2015-01-01 02:00:00+00:00               779.0\n",
       "4 2015-01-01 03:00:00+00:00               720.0"
      ]
     },
     "execution_count": 2,
     "metadata": {},
     "output_type": "execute_result"
    }
   ],
   "source": [
    "data = pd.read_csv('../data/processed/reservoir_cleaned_data.csv', parse_dates=[\"timestamp\"])\n",
    "data.head()"
   ]
  },
  {
   "cell_type": "code",
   "execution_count": 3,
   "metadata": {},
   "outputs": [
    {
     "name": "stdout",
     "output_type": "stream",
     "text": [
      "<class 'pandas.core.frame.DataFrame'>\n",
      "RangeIndex: 35064 entries, 0 to 35063\n",
      "Data columns (total 2 columns):\n",
      " #   Column              Non-Null Count  Dtype              \n",
      "---  ------              --------------  -----              \n",
      " 0   timestamp           35064 non-null  datetime64[ns, UTC]\n",
      " 1   generation_cleaned  35064 non-null  float64            \n",
      "dtypes: datetime64[ns, UTC](1), float64(1)\n",
      "memory usage: 548.0 KB\n"
     ]
    }
   ],
   "source": [
    "data.info()"
   ]
  },
  {
   "cell_type": "code",
   "execution_count": 4,
   "metadata": {},
   "outputs": [],
   "source": [
    "# Timestamp column transformation\n",
    "data['timestamp'] = pd.to_datetime(data['timestamp'], utc=True).dt.tz_convert('Europe/Madrid')        "
   ]
  },
  {
   "cell_type": "code",
   "execution_count": 5,
   "metadata": {},
   "outputs": [
    {
     "data": {
      "text/html": [
       "<div>\n",
       "<style scoped>\n",
       "    .dataframe tbody tr th:only-of-type {\n",
       "        vertical-align: middle;\n",
       "    }\n",
       "\n",
       "    .dataframe tbody tr th {\n",
       "        vertical-align: top;\n",
       "    }\n",
       "\n",
       "    .dataframe thead th {\n",
       "        text-align: right;\n",
       "    }\n",
       "</style>\n",
       "<table border=\"1\" class=\"dataframe\">\n",
       "  <thead>\n",
       "    <tr style=\"text-align: right;\">\n",
       "      <th></th>\n",
       "      <th>generation_cleaned</th>\n",
       "    </tr>\n",
       "    <tr>\n",
       "      <th>timestamp</th>\n",
       "      <th></th>\n",
       "    </tr>\n",
       "  </thead>\n",
       "  <tbody>\n",
       "    <tr>\n",
       "      <th>2015-01-01 00:00:00+01:00</th>\n",
       "      <td>1899.0</td>\n",
       "    </tr>\n",
       "    <tr>\n",
       "      <th>2015-01-01 01:00:00+01:00</th>\n",
       "      <td>1658.0</td>\n",
       "    </tr>\n",
       "    <tr>\n",
       "      <th>2015-01-01 02:00:00+01:00</th>\n",
       "      <td>1371.0</td>\n",
       "    </tr>\n",
       "    <tr>\n",
       "      <th>2015-01-01 03:00:00+01:00</th>\n",
       "      <td>779.0</td>\n",
       "    </tr>\n",
       "    <tr>\n",
       "      <th>2015-01-01 04:00:00+01:00</th>\n",
       "      <td>720.0</td>\n",
       "    </tr>\n",
       "    <tr>\n",
       "      <th>...</th>\n",
       "      <td>...</td>\n",
       "    </tr>\n",
       "    <tr>\n",
       "      <th>2018-12-31 19:00:00+01:00</th>\n",
       "      <td>4836.0</td>\n",
       "    </tr>\n",
       "    <tr>\n",
       "      <th>2018-12-31 20:00:00+01:00</th>\n",
       "      <td>3931.0</td>\n",
       "    </tr>\n",
       "    <tr>\n",
       "      <th>2018-12-31 21:00:00+01:00</th>\n",
       "      <td>2831.0</td>\n",
       "    </tr>\n",
       "    <tr>\n",
       "      <th>2018-12-31 22:00:00+01:00</th>\n",
       "      <td>2068.0</td>\n",
       "    </tr>\n",
       "    <tr>\n",
       "      <th>2018-12-31 23:00:00+01:00</th>\n",
       "      <td>1686.0</td>\n",
       "    </tr>\n",
       "  </tbody>\n",
       "</table>\n",
       "<p>35064 rows × 1 columns</p>\n",
       "</div>"
      ],
      "text/plain": [
       "                           generation_cleaned\n",
       "timestamp                                    \n",
       "2015-01-01 00:00:00+01:00              1899.0\n",
       "2015-01-01 01:00:00+01:00              1658.0\n",
       "2015-01-01 02:00:00+01:00              1371.0\n",
       "2015-01-01 03:00:00+01:00               779.0\n",
       "2015-01-01 04:00:00+01:00               720.0\n",
       "...                                       ...\n",
       "2018-12-31 19:00:00+01:00              4836.0\n",
       "2018-12-31 20:00:00+01:00              3931.0\n",
       "2018-12-31 21:00:00+01:00              2831.0\n",
       "2018-12-31 22:00:00+01:00              2068.0\n",
       "2018-12-31 23:00:00+01:00              1686.0\n",
       "\n",
       "[35064 rows x 1 columns]"
      ]
     },
     "execution_count": 5,
     "metadata": {},
     "output_type": "execute_result"
    }
   ],
   "source": [
    "# Generation reservoir water\n",
    "reservoir_gen = data.set_index('timestamp') \\\n",
    "                    .asfreq('H') \\\n",
    "                    .interpolate() \\\n",
    "                    .sort_index()\n",
    "reservoir_gen"
   ]
  },
  {
   "cell_type": "code",
   "execution_count": 6,
   "metadata": {},
   "outputs": [],
   "source": [
    "def remove_outliers(df, value_col, period = None, robust = True):\n",
    "    serie = df[value_col]\n",
    "    res = STL(serie, period = period, robust = robust).fit()\n",
    "    resid = res.resid\n",
    "    q1 = resid.quantile(0.25)\n",
    "    q3 = resid.quantile(0.75)\n",
    "    iqr = q3 - q1\n",
    "    lower = q1 - (3*iqr)\n",
    "    upper = q3 + (3*iqr)\n",
    "    \n",
    "    anomalies = serie[(resid < lower) | (resid >= upper)]\n",
    "    df = df.assign(anomaly = np.where(df[value_col].index.isin(anomalies.index), True, False))\n",
    "    df[\"value_corrected\"] = np.where(df[\"anomaly\"] == True, np.NaN, df[value_col])\n",
    "    df.interpolate(method = \"linear\", inplace=True)\n",
    "    df[\"value_corrected\"] = np.where(df[\"value_corrected\"].isna(), df[value_col], df[\"value_corrected\"])\n",
    "    return df"
   ]
  },
  {
   "cell_type": "code",
   "execution_count": 7,
   "metadata": {},
   "outputs": [],
   "source": [
    "data_sin_outliers = remove_outliers(reservoir_gen, 'generation_cleaned')\n",
    "data_sin_outliers = data_sin_outliers.drop(['generation_cleaned', 'anomaly'], axis = 1)"
   ]
  },
  {
   "cell_type": "code",
   "execution_count": 8,
   "metadata": {},
   "outputs": [
    {
     "data": {
      "text/plain": [
       "<Axes: xlabel='timestamp'>"
      ]
     },
     "execution_count": 8,
     "metadata": {},
     "output_type": "execute_result"
    },
    {
     "data": {
      "image/png": "[encoded data removed]",
      "text/plain": [
       "<Figure size 1000x600 with 1 Axes>"
      ]
     },
     "metadata": {},
     "output_type": "display_data"
    }
   ],
   "source": [
    "data_sin_outliers['value_corrected'].plot(figsize=(10,6))"
   ]
  },
  {
   "cell_type": "code",
   "execution_count": 9,
   "metadata": {},
   "outputs": [],
   "source": [
    "# Validation split\n",
    "val_len = 24\n",
    "in_sample_df = data_sin_outliers.iloc[:-val_len, :]\n",
    "out_of_sample_df = data_sin_outliers.iloc[-val_len:, :]"
   ]
  },
  {
   "cell_type": "code",
   "execution_count": 10,
   "metadata": {},
   "outputs": [],
   "source": [
    "in_sample_df = in_sample_df.reset_index()\n",
    "out_of_sample_df = out_of_sample_df.reset_index()"
   ]
  },
  {
   "cell_type": "code",
   "execution_count": 11,
   "metadata": {},
   "outputs": [],
   "source": [
    "# Train test split\n",
    "test_time = pd.Timedelta(24*7, unit='H')\n",
    "split_point = in_sample_df['timestamp'].max() - test_time\n",
    "\n",
    "X_train = in_sample_df[in_sample_df['timestamp'] < split_point]\n",
    "X_test = in_sample_df[in_sample_df['timestamp'] >= split_point - pd.Timedelta(24*4, unit = 'H')]\n",
    "\n",
    "y_train = in_sample_df[in_sample_df['timestamp'] < split_point][['timestamp', 'value_corrected']]\n",
    "y_test = in_sample_df[in_sample_df['timestamp'] >= split_point - pd.Timedelta(24*4, unit='H')][['timestamp', 'value_corrected']]"
   ]
  },
  {
   "cell_type": "code",
   "execution_count": 12,
   "metadata": {},
   "outputs": [],
   "source": [
    "X_train = X_train.set_index('timestamp')\n",
    "X_test = X_test.set_index('timestamp')\n",
    "y_train = y_train.set_index('timestamp')\n",
    "y_test = y_test.set_index('timestamp')"
   ]
  },
  {
   "attachments": {},
   "cell_type": "markdown",
   "metadata": {},
   "source": [
    "## Feature Engineering"
   ]
  },
  {
   "cell_type": "code",
   "execution_count": 13,
   "metadata": {},
   "outputs": [],
   "source": [
    "# Fourier Features Class\n",
    "class AddFourierFeatures(BaseEstimator, TransformerMixin):\n",
    "    seconds_per_day = 24*60*60     # Daily dataset\n",
    "    seconds_per_hour = 60*60       # Hourly dataset\n",
    "\n",
    "    def __init__(self, K, periods: list, by = \"day\"):\n",
    "        self.K = K\n",
    "        self.periods = periods\n",
    "        self.by = by\n",
    "\n",
    "    def fit(self, X, y=None):\n",
    "\n",
    "        return self\n",
    "\n",
    "    def transform(self, X, y=None):\n",
    "        X = X.copy()\n",
    "        dates = X.index\n",
    "        \n",
    "        for period in self.periods:\n",
    "            term = self.K / period\n",
    "            timestamps = dates.map(datetime.datetime.timestamp)\n",
    "            ts_scaled = []\n",
    "\n",
    "            for ts in timestamps:\n",
    "                if self.by == \"day\":\n",
    "                    x_scaled = round(ts / self.seconds_per_day)\n",
    "                    ts_scaled.append(x_scaled)\n",
    "                else:\n",
    "                    x_scaled = round(ts / self.seconds_per_hour)\n",
    "                    ts_scaled.append(x_scaled)\n",
    "\n",
    "            X[\"fourier_sin\"] = [np.sin(2 * np.pi * term * ts) for ts in ts_scaled]\n",
    "            X[\"fourier_cos\"] = [np.cos(2 * np.pi * term * ts) for ts in ts_scaled]\n",
    "\n",
    "        return X"
   ]
  },
  {
   "cell_type": "code",
   "execution_count": 14,
   "metadata": {},
   "outputs": [],
   "source": [
    "# Transformers\n",
    "horizon = 24\n",
    "\n",
    "dtf = DatetimeFeatures(\n",
    "    variables=\"index\",\n",
    "    features_to_extract=[\n",
    "        \"hour\",\n",
    "        \"day_of_month\",\n",
    "        \"month\",\n",
    "        \"year\",\n",
    "        \"day_of_year\",\n",
    "        \"week\",\n",
    "        \"day_of_week\",\n",
    "        \"weekend\"\n",
    "    ],\n",
    "    drop_original = False,\n",
    "    utc = True\n",
    ")\n",
    "\n",
    "cyclicf = CyclicalFeatures(\n",
    "    variables=[\"hour\", \"month\", \"day_of_year\"],\n",
    "    drop_original= True\n",
    ")\n",
    "\n",
    "fourierf = AddFourierFeatures(\n",
    "    K = 1,\n",
    "    periods=[horizon, horizon*2],\n",
    "    by = \"hour\"\n",
    ")\n",
    "\n",
    "lagf = LagFeatures(\n",
    "    variables=\"value_corrected\",\n",
    "    periods=list(range(1,horizon+1)),\n",
    "    missing_values = \"ignore\"\n",
    ")\n",
    "\n",
    "windf24 = WindowFeatures(\n",
    "    variables=\"value_corrected\",\n",
    "    functions=[\"mean\"],\n",
    "    window=[horizon],\n",
    "    freq=\"1H\",\n",
    "    missing_values=\"ignore\"\n",
    ")\n",
    "\n",
    "imputer = DropMissingData()\n",
    "\n",
    "drop_features = DropFeatures(features_to_drop=[\"value_corrected\"])"
   ]
  },
  {
   "cell_type": "code",
   "execution_count": 15,
   "metadata": {},
   "outputs": [],
   "source": [
    "prep_pipeline = Pipeline([\n",
    "    ('datetime features', dtf),\n",
    "    ('cyclic features', cyclicf),\n",
    "    (\"fourier features\", fourierf),\n",
    "    ('lag features', lagf),\n",
    "    ('window features', windf24),\n",
    "    ('imputer', imputer),\n",
    "    ('drop features', drop_features)\n",
    "])\n",
    "\n",
    "X_train_prep = prep_pipeline.fit_transform(X_train)\n",
    "X_test_prep = prep_pipeline.transform(X_test)"
   ]
  },
  {
   "cell_type": "code",
   "execution_count": 16,
   "metadata": {},
   "outputs": [],
   "source": [
    "# Align\n",
    "\n",
    "y_train_t = y_train.loc[X_train_prep.index]\n",
    "y_test_t = y_test.loc[X_test_prep.index]"
   ]
  },
  {
   "cell_type": "code",
   "execution_count": 17,
   "metadata": {},
   "outputs": [
    {
     "name": "stderr",
     "output_type": "stream",
     "text": [
      "feature_fraction, val_score: inf:   0%|          | 0/7 [00:00<?, ?it/s]"
     ]
    },
    {
     "name": "stdout",
     "output_type": "stream",
     "text": [
      "Training until validation scores don't improve for 200 rounds\n",
      "[100]\tcv_agg's rmse: 374.166 + 3.96439\n",
      "[200]\tcv_agg's rmse: 369.005 + 3.79049\n",
      "[300]\tcv_agg's rmse: 367.601 + 3.77845\n",
      "[400]\tcv_agg's rmse: 367.002 + 4.00726\n",
      "[500]\tcv_agg's rmse: 366.871 + 4.01172\n",
      "[600]\tcv_agg's rmse: 367.34 + 4.21204\n"
     ]
    },
    {
     "name": "stderr",
     "output_type": "stream",
     "text": [
      "feature_fraction, val_score: 366.793710:  14%|#4        | 1/7 [00:08<00:49,  8.21s/it]"
     ]
    },
    {
     "name": "stdout",
     "output_type": "stream",
     "text": [
      "Early stopping, best iteration is:\n",
      "[467]\tcv_agg's rmse: 366.794 + 4.05611\n",
      "[100]\tcv_agg's rmse: 373.862 + 3.47943\n",
      "[200]\tcv_agg's rmse: 368.935 + 3.56429\n",
      "[300]\tcv_agg's rmse: 367.229 + 4.17935\n",
      "[400]\tcv_agg's rmse: 366.706 + 4.52051\n",
      "[500]\tcv_agg's rmse: 366.503 + 4.46212\n",
      "[600]\tcv_agg's rmse: 366.579 + 4.76959\n",
      "[700]\tcv_agg's rmse: 366.839 + 4.71413\n"
     ]
    },
    {
     "name": "stderr",
     "output_type": "stream",
     "text": [
      "feature_fraction, val_score: 366.430109:  29%|##8       | 2/7 [00:16<00:41,  8.39s/it]"
     ]
    },
    {
     "name": "stdout",
     "output_type": "stream",
     "text": [
      "Early stopping, best iteration is:\n",
      "[579]\tcv_agg's rmse: 366.43 + 4.74892\n",
      "[100]\tcv_agg's rmse: 383.494 + 2.98857\n",
      "[200]\tcv_agg's rmse: 374.384 + 2.44277\n",
      "[300]\tcv_agg's rmse: 371.486 + 2.75155\n",
      "[400]\tcv_agg's rmse: 370.238 + 2.80925\n",
      "[500]\tcv_agg's rmse: 369.658 + 2.89533\n",
      "[600]\tcv_agg's rmse: 369.56 + 2.79396\n",
      "[700]\tcv_agg's rmse: 369.709 + 2.60447\n"
     ]
    },
    {
     "name": "stderr",
     "output_type": "stream",
     "text": [
      "feature_fraction, val_score: 366.430109:  43%|####2     | 3/7 [00:23<00:30,  7.69s/it]"
     ]
    },
    {
     "name": "stdout",
     "output_type": "stream",
     "text": [
      "Early stopping, best iteration is:\n",
      "[579]\tcv_agg's rmse: 366.43 + 4.74892\n",
      "[100]\tcv_agg's rmse: 377.377 + 3.04235\n",
      "[200]\tcv_agg's rmse: 370.916 + 2.78152\n",
      "[300]\tcv_agg's rmse: 368.636 + 2.63085\n",
      "[400]\tcv_agg's rmse: 367.866 + 2.47596\n",
      "[500]\tcv_agg's rmse: 367.571 + 2.57508\n",
      "[600]\tcv_agg's rmse: 367.574 + 2.81051\n",
      "[700]\tcv_agg's rmse: 367.742 + 3.00145\n"
     ]
    },
    {
     "name": "stderr",
     "output_type": "stream",
     "text": [
      "feature_fraction, val_score: 366.430109:  57%|#####7    | 4/7 [00:31<00:23,  7.97s/it]"
     ]
    },
    {
     "name": "stdout",
     "output_type": "stream",
     "text": [
      "Early stopping, best iteration is:\n",
      "[579]\tcv_agg's rmse: 366.43 + 4.74892\n",
      "[100]\tcv_agg's rmse: 381.587 + 2.6014\n",
      "[200]\tcv_agg's rmse: 373.761 + 3.05469\n",
      "[300]\tcv_agg's rmse: 370.661 + 3.08559\n",
      "[400]\tcv_agg's rmse: 369.856 + 3.0961\n",
      "[500]\tcv_agg's rmse: 369.792 + 3.15944\n",
      "[600]\tcv_agg's rmse: 369.64 + 3.18477\n",
      "[700]\tcv_agg's rmse: 369.74 + 3.15875\n"
     ]
    },
    {
     "name": "stderr",
     "output_type": "stream",
     "text": [
      "feature_fraction, val_score: 366.430109:  71%|#######1  | 5/7 [00:39<00:15,  7.66s/it]"
     ]
    },
    {
     "name": "stdout",
     "output_type": "stream",
     "text": [
      "Early stopping, best iteration is:\n",
      "[579]\tcv_agg's rmse: 366.43 + 4.74892\n",
      "[100]\tcv_agg's rmse: 372.998 + 4.09425\n",
      "[200]\tcv_agg's rmse: 367.979 + 3.48439\n",
      "[300]\tcv_agg's rmse: 366.685 + 3.44279\n",
      "[400]\tcv_agg's rmse: 366.3 + 3.46123\n",
      "[500]\tcv_agg's rmse: 366.37 + 3.38448\n",
      "[600]\tcv_agg's rmse: 366.456 + 3.37809\n"
     ]
    },
    {
     "name": "stderr",
     "output_type": "stream",
     "text": [
      "feature_fraction, val_score: 366.152361:  86%|########5 | 6/7 [00:46<00:07,  7.44s/it]"
     ]
    },
    {
     "name": "stdout",
     "output_type": "stream",
     "text": [
      "Early stopping, best iteration is:\n",
      "[443]\tcv_agg's rmse: 366.152 + 3.48736\n",
      "[100]\tcv_agg's rmse: 371.695 + 3.44798\n",
      "[200]\tcv_agg's rmse: 367.003 + 4.00296\n",
      "[300]\tcv_agg's rmse: 365.697 + 4.5293\n",
      "[400]\tcv_agg's rmse: 365.268 + 5.10639\n",
      "[500]\tcv_agg's rmse: 365.223 + 5.16678\n",
      "[600]\tcv_agg's rmse: 365.436 + 5.27505\n"
     ]
    },
    {
     "name": "stderr",
     "output_type": "stream",
     "text": [
      "feature_fraction, val_score: 365.131583: 100%|##########| 7/7 [00:55<00:00,  7.87s/it]\n"
     ]
    },
    {
     "name": "stdout",
     "output_type": "stream",
     "text": [
      "[700]\tcv_agg's rmse: 365.886 + 5.54443\n",
      "Early stopping, best iteration is:\n",
      "[505]\tcv_agg's rmse: 365.132 + 5.27501\n"
     ]
    },
    {
     "name": "stderr",
     "output_type": "stream",
     "text": [
      "num_leaves, val_score: 365.131583:   0%|          | 0/20 [00:00<?, ?it/s]"
     ]
    },
    {
     "name": "stdout",
     "output_type": "stream",
     "text": [
      "[100]\tcv_agg's rmse: 370.913 + 2.97235\n",
      "[200]\tcv_agg's rmse: 372.128 + 2.45003\n",
      "[300]\tcv_agg's rmse: 372.93 + 2.44855\n",
      "[400]\tcv_agg's rmse: 373.312 + 2.52732\n",
      "[500]\tcv_agg's rmse: 373.512 + 2.54475\n",
      "[600]\tcv_agg's rmse: 373.658 + 2.56035\n",
      "[700]\tcv_agg's rmse: 373.743 + 2.54713\n"
     ]
    },
    {
     "name": "stderr",
     "output_type": "stream",
     "text": [
      "num_leaves, val_score: 365.131583:   5%|5         | 1/20 [00:39<12:33, 39.65s/it]"
     ]
    },
    {
     "name": "stdout",
     "output_type": "stream",
     "text": [
      "Early stopping, best iteration is:\n",
      "[505]\tcv_agg's rmse: 365.132 + 5.27501\n",
      "[100]\tcv_agg's rmse: 365.931 + 3.83688\n",
      "[200]\tcv_agg's rmse: 366.038 + 4.15907\n",
      "[300]\tcv_agg's rmse: 367 + 4.32966\n",
      "[400]\tcv_agg's rmse: 367.644 + 4.41057\n",
      "[500]\tcv_agg's rmse: 368.361 + 4.4061\n",
      "[600]\tcv_agg's rmse: 368.89 + 4.38776\n"
     ]
    },
    {
     "name": "stderr",
     "output_type": "stream",
     "text": [
      "num_leaves, val_score: 365.131583:  10%|#         | 2/20 [01:04<09:18, 31.03s/it]"
     ]
    },
    {
     "name": "stdout",
     "output_type": "stream",
     "text": [
      "[700]\tcv_agg's rmse: 369.353 + 4.48142\n",
      "Early stopping, best iteration is:\n",
      "[505]\tcv_agg's rmse: 365.132 + 5.27501\n",
      "[100]\tcv_agg's rmse: 366.253 + 3.60716\n",
      "[200]\tcv_agg's rmse: 364.07 + 3.50249\n",
      "[300]\tcv_agg's rmse: 364.004 + 3.75907\n",
      "[400]\tcv_agg's rmse: 364.424 + 3.71988\n"
     ]
    },
    {
     "name": "stderr",
     "output_type": "stream",
     "text": [
      "num_leaves, val_score: 363.698961:  15%|#5        | 3/20 [01:20<06:51, 24.22s/it]"
     ]
    },
    {
     "name": "stdout",
     "output_type": "stream",
     "text": [
      "Early stopping, best iteration is:\n",
      "[240]\tcv_agg's rmse: 363.699 + 3.5037\n",
      "[100]\tcv_agg's rmse: 369.977 + 4.08475\n",
      "[200]\tcv_agg's rmse: 370.999 + 3.95109\n",
      "[300]\tcv_agg's rmse: 372.088 + 4.13037\n",
      "[400]\tcv_agg's rmse: 372.554 + 4.01155\n"
     ]
    },
    {
     "name": "stderr",
     "output_type": "stream",
     "text": [
      "num_leaves, val_score: 363.698961:  20%|##        | 4/20 [01:46<06:39, 24.96s/it]"
     ]
    },
    {
     "name": "stdout",
     "output_type": "stream",
     "text": [
      "Early stopping, best iteration is:\n",
      "[240]\tcv_agg's rmse: 363.699 + 3.5037\n",
      "[100]\tcv_agg's rmse: 365.177 + 4.03129\n",
      "[200]\tcv_agg's rmse: 364.641 + 3.919\n",
      "[300]\tcv_agg's rmse: 365.515 + 4.10889\n",
      "[400]\tcv_agg's rmse: 366.002 + 4.07867\n"
     ]
    },
    {
     "name": "stderr",
     "output_type": "stream",
     "text": [
      "num_leaves, val_score: 363.698961:  25%|##5       | 5/20 [01:57<04:58, 19.91s/it]"
     ]
    },
    {
     "name": "stdout",
     "output_type": "stream",
     "text": [
      "Early stopping, best iteration is:\n",
      "[240]\tcv_agg's rmse: 363.699 + 3.5037\n",
      "[100]\tcv_agg's rmse: 366.846 + 4.57832\n",
      "[200]\tcv_agg's rmse: 367.366 + 4.8873\n",
      "[300]\tcv_agg's rmse: 368.232 + 4.6909\n",
      "[400]\tcv_agg's rmse: 368.807 + 4.92421\n"
     ]
    },
    {
     "name": "stderr",
     "output_type": "stream",
     "text": [
      "num_leaves, val_score: 363.698961:  30%|###       | 6/20 [02:15<04:27, 19.10s/it]"
     ]
    },
    {
     "name": "stdout",
     "output_type": "stream",
     "text": [
      "Early stopping, best iteration is:\n",
      "[240]\tcv_agg's rmse: 363.699 + 3.5037\n",
      "[100]\tcv_agg's rmse: 366.679 + 3.41557\n",
      "[200]\tcv_agg's rmse: 367.571 + 3.46666\n",
      "[300]\tcv_agg's rmse: 368.587 + 3.82206\n",
      "[400]\tcv_agg's rmse: 369.483 + 3.91191\n"
     ]
    },
    {
     "name": "stderr",
     "output_type": "stream",
     "text": [
      "num_leaves, val_score: 363.698961:  35%|###5      | 7/20 [02:32<04:00, 18.52s/it]"
     ]
    },
    {
     "name": "stdout",
     "output_type": "stream",
     "text": [
      "Early stopping, best iteration is:\n",
      "[240]\tcv_agg's rmse: 363.699 + 3.5037\n",
      "[100]\tcv_agg's rmse: 367.009 + 3.02059\n",
      "[200]\tcv_agg's rmse: 367.407 + 3.42887\n",
      "[300]\tcv_agg's rmse: 368.084 + 3.48742\n",
      "[400]\tcv_agg's rmse: 368.656 + 3.51992\n"
     ]
    },
    {
     "name": "stderr",
     "output_type": "stream",
     "text": [
      "num_leaves, val_score: 363.698961:  40%|####      | 8/20 [02:48<03:31, 17.64s/it]"
     ]
    },
    {
     "name": "stdout",
     "output_type": "stream",
     "text": [
      "Early stopping, best iteration is:\n",
      "[240]\tcv_agg's rmse: 363.699 + 3.5037\n",
      "[100]\tcv_agg's rmse: 366.834 + 4.91076\n",
      "[200]\tcv_agg's rmse: 367.34 + 4.64843\n",
      "[300]\tcv_agg's rmse: 368.301 + 4.42911\n",
      "[400]\tcv_agg's rmse: 369.069 + 4.43176\n"
     ]
    },
    {
     "name": "stderr",
     "output_type": "stream",
     "text": [
      "num_leaves, val_score: 363.698961:  45%|####5     | 9/20 [03:02<03:03, 16.65s/it]"
     ]
    },
    {
     "name": "stdout",
     "output_type": "stream",
     "text": [
      "Early stopping, best iteration is:\n",
      "[240]\tcv_agg's rmse: 363.699 + 3.5037\n",
      "[100]\tcv_agg's rmse: 385.225 + 3.08232\n",
      "[200]\tcv_agg's rmse: 375.574 + 3.10263\n",
      "[300]\tcv_agg's rmse: 371.563 + 2.96012\n",
      "[400]\tcv_agg's rmse: 369.695 + 3.21834\n"
     ]
    },
    {
     "name": "stderr",
     "output_type": "stream",
     "text": [
      "num_leaves, val_score: 363.698961:  50%|#####     | 10/20 [03:06<02:06, 12.65s/it]"
     ]
    },
    {
     "name": "stdout",
     "output_type": "stream",
     "text": [
      "Early stopping, best iteration is:\n",
      "[240]\tcv_agg's rmse: 363.699 + 3.5037\n",
      "[100]\tcv_agg's rmse: 383.66 + 2.86979\n",
      "[200]\tcv_agg's rmse: 374.693 + 2.83482\n",
      "[300]\tcv_agg's rmse: 371.11 + 2.81628\n",
      "[400]\tcv_agg's rmse: 369.094 + 2.96775\n"
     ]
    },
    {
     "name": "stderr",
     "output_type": "stream",
     "text": [
      "num_leaves, val_score: 363.698961:  55%|#####5    | 11/20 [03:10<01:29,  9.99s/it]"
     ]
    },
    {
     "name": "stdout",
     "output_type": "stream",
     "text": [
      "Early stopping, best iteration is:\n",
      "[240]\tcv_agg's rmse: 363.699 + 3.5037\n",
      "[100]\tcv_agg's rmse: 366.42 + 3.53586\n",
      "[200]\tcv_agg's rmse: 365.377 + 3.56416\n",
      "[300]\tcv_agg's rmse: 365.351 + 4.04741\n",
      "[400]\tcv_agg's rmse: 365.922 + 4.17606\n"
     ]
    },
    {
     "name": "stderr",
     "output_type": "stream",
     "text": [
      "num_leaves, val_score: 363.698961:  60%|######    | 12/20 [03:19<01:18,  9.80s/it]"
     ]
    },
    {
     "name": "stdout",
     "output_type": "stream",
     "text": [
      "Early stopping, best iteration is:\n",
      "[240]\tcv_agg's rmse: 363.699 + 3.5037\n",
      "[100]\tcv_agg's rmse: 366.618 + 3.63452\n",
      "[200]\tcv_agg's rmse: 364.731 + 3.29075\n",
      "[300]\tcv_agg's rmse: 364.726 + 3.11287\n",
      "[400]\tcv_agg's rmse: 365.132 + 3.23195\n"
     ]
    },
    {
     "name": "stderr",
     "output_type": "stream",
     "text": [
      "num_leaves, val_score: 363.698961:  65%|######5   | 13/20 [03:28<01:05,  9.40s/it]"
     ]
    },
    {
     "name": "stdout",
     "output_type": "stream",
     "text": [
      "Early stopping, best iteration is:\n",
      "[240]\tcv_agg's rmse: 363.699 + 3.5037\n",
      "[100]\tcv_agg's rmse: 367.455 + 2.8437\n",
      "[200]\tcv_agg's rmse: 364.986 + 2.99715\n",
      "[300]\tcv_agg's rmse: 364.863 + 2.96393\n",
      "[400]\tcv_agg's rmse: 365.084 + 3.40008\n"
     ]
    },
    {
     "name": "stderr",
     "output_type": "stream",
     "text": [
      "num_leaves, val_score: 363.698961:  70%|#######   | 14/20 [03:36<00:53,  8.90s/it]"
     ]
    },
    {
     "name": "stdout",
     "output_type": "stream",
     "text": [
      "Early stopping, best iteration is:\n",
      "[240]\tcv_agg's rmse: 363.699 + 3.5037\n",
      "[100]\tcv_agg's rmse: 367.455 + 2.8437\n",
      "[200]\tcv_agg's rmse: 364.986 + 2.99715\n",
      "[300]\tcv_agg's rmse: 364.863 + 2.96393\n",
      "[400]\tcv_agg's rmse: 365.084 + 3.40008\n"
     ]
    },
    {
     "name": "stderr",
     "output_type": "stream",
     "text": [
      "num_leaves, val_score: 363.698961:  75%|#######5  | 15/20 [03:43<00:42,  8.53s/it]"
     ]
    },
    {
     "name": "stdout",
     "output_type": "stream",
     "text": [
      "Early stopping, best iteration is:\n",
      "[240]\tcv_agg's rmse: 363.699 + 3.5037\n",
      "[100]\tcv_agg's rmse: 368.989 + 2.91973\n",
      "[200]\tcv_agg's rmse: 365.373 + 2.84249\n",
      "[300]\tcv_agg's rmse: 364.536 + 3.11496\n",
      "[400]\tcv_agg's rmse: 364.372 + 3.44779\n"
     ]
    },
    {
     "name": "stderr",
     "output_type": "stream",
     "text": [
      "num_leaves, val_score: 363.698961:  80%|########  | 16/20 [03:51<00:33,  8.31s/it]"
     ]
    },
    {
     "name": "stdout",
     "output_type": "stream",
     "text": [
      "Early stopping, best iteration is:\n",
      "[240]\tcv_agg's rmse: 363.699 + 3.5037\n",
      "[100]\tcv_agg's rmse: 368.921 + 4.18263\n",
      "[200]\tcv_agg's rmse: 370.315 + 4.16888\n",
      "[300]\tcv_agg's rmse: 371.598 + 4.51653\n",
      "[400]\tcv_agg's rmse: 372.373 + 4.60483\n"
     ]
    },
    {
     "name": "stderr",
     "output_type": "stream",
     "text": [
      "num_leaves, val_score: 363.698961:  85%|########5 | 17/20 [04:11<00:35, 11.86s/it]"
     ]
    },
    {
     "name": "stdout",
     "output_type": "stream",
     "text": [
      "Early stopping, best iteration is:\n",
      "[240]\tcv_agg's rmse: 363.699 + 3.5037\n",
      "[100]\tcv_agg's rmse: 365.177 + 4.03129\n",
      "[200]\tcv_agg's rmse: 364.641 + 3.919\n",
      "[300]\tcv_agg's rmse: 365.515 + 4.10889\n",
      "[400]\tcv_agg's rmse: 366.002 + 4.07867\n"
     ]
    },
    {
     "name": "stderr",
     "output_type": "stream",
     "text": [
      "num_leaves, val_score: 363.698961:  90%|######### | 18/20 [04:21<00:22, 11.24s/it]"
     ]
    },
    {
     "name": "stdout",
     "output_type": "stream",
     "text": [
      "Early stopping, best iteration is:\n",
      "[240]\tcv_agg's rmse: 363.699 + 3.5037\n",
      "[100]\tcv_agg's rmse: 367.606 + 4.31696\n",
      "[200]\tcv_agg's rmse: 368.717 + 4.15092\n",
      "[300]\tcv_agg's rmse: 369.599 + 4.37765\n",
      "[400]\tcv_agg's rmse: 370.229 + 4.4043\n"
     ]
    },
    {
     "name": "stderr",
     "output_type": "stream",
     "text": [
      "num_leaves, val_score: 363.698961:  95%|#########5| 19/20 [04:40<00:13, 13.53s/it]"
     ]
    },
    {
     "name": "stdout",
     "output_type": "stream",
     "text": [
      "Early stopping, best iteration is:\n",
      "[240]\tcv_agg's rmse: 363.699 + 3.5037\n",
      "[100]\tcv_agg's rmse: 370.099 + 2.88534\n",
      "[200]\tcv_agg's rmse: 366.136 + 2.45568\n",
      "[300]\tcv_agg's rmse: 365.273 + 2.42197\n",
      "[400]\tcv_agg's rmse: 364.834 + 2.81107\n"
     ]
    },
    {
     "name": "stderr",
     "output_type": "stream",
     "text": [
      "num_leaves, val_score: 363.698961: 100%|##########| 20/20 [04:46<00:00, 14.33s/it]\n"
     ]
    },
    {
     "name": "stdout",
     "output_type": "stream",
     "text": [
      "Early stopping, best iteration is:\n",
      "[240]\tcv_agg's rmse: 363.699 + 3.5037\n"
     ]
    },
    {
     "name": "stderr",
     "output_type": "stream",
     "text": [
      "bagging, val_score: 363.698961:   0%|          | 0/10 [00:00<?, ?it/s]"
     ]
    },
    {
     "name": "stdout",
     "output_type": "stream",
     "text": [
      "[100]\tcv_agg's rmse: 372.867 + 3.17483\n",
      "[200]\tcv_agg's rmse: 372.748 + 3.45291\n",
      "[300]\tcv_agg's rmse: 374.69 + 3.96747\n",
      "[400]\tcv_agg's rmse: 376.251 + 3.70831\n"
     ]
    },
    {
     "name": "stderr",
     "output_type": "stream",
     "text": [
      "bagging, val_score: 363.698961:  10%|#         | 1/10 [00:14<02:07, 14.16s/it]"
     ]
    },
    {
     "name": "stdout",
     "output_type": "stream",
     "text": [
      "Early stopping, best iteration is:\n",
      "[240]\tcv_agg's rmse: 363.699 + 3.5037\n",
      "[100]\tcv_agg's rmse: 372.28 + 4.49087\n",
      "[200]\tcv_agg's rmse: 372.546 + 4.31166\n",
      "[300]\tcv_agg's rmse: 374.172 + 4.36726\n",
      "[400]\tcv_agg's rmse: 375.896 + 4.71645\n"
     ]
    },
    {
     "name": "stderr",
     "output_type": "stream",
     "text": [
      "bagging, val_score: 363.698961:  20%|##        | 2/10 [00:26<01:43, 12.89s/it]"
     ]
    },
    {
     "name": "stdout",
     "output_type": "stream",
     "text": [
      "Early stopping, best iteration is:\n",
      "[240]\tcv_agg's rmse: 363.699 + 3.5037\n",
      "[100]\tcv_agg's rmse: 368.47 + 4.10738\n",
      "[200]\tcv_agg's rmse: 367.194 + 3.47189\n",
      "[300]\tcv_agg's rmse: 367.941 + 3.24805\n",
      "[400]\tcv_agg's rmse: 368.746 + 3.7042\n"
     ]
    },
    {
     "name": "stderr",
     "output_type": "stream",
     "text": [
      "bagging, val_score: 363.698961:  30%|###       | 3/10 [00:35<01:18, 11.19s/it]"
     ]
    },
    {
     "name": "stdout",
     "output_type": "stream",
     "text": [
      "Early stopping, best iteration is:\n",
      "[240]\tcv_agg's rmse: 363.699 + 3.5037\n",
      "[100]\tcv_agg's rmse: 368.676 + 3.11405\n",
      "[200]\tcv_agg's rmse: 368.046 + 2.91267\n",
      "[300]\tcv_agg's rmse: 368.805 + 2.96896\n",
      "[400]\tcv_agg's rmse: 370.061 + 3.22437\n"
     ]
    },
    {
     "name": "stderr",
     "output_type": "stream",
     "text": [
      "bagging, val_score: 363.698961:  40%|####      | 4/10 [00:46<01:07, 11.30s/it]"
     ]
    },
    {
     "name": "stdout",
     "output_type": "stream",
     "text": [
      "Early stopping, best iteration is:\n",
      "[240]\tcv_agg's rmse: 363.699 + 3.5037\n",
      "[100]\tcv_agg's rmse: 368.122 + 3.86785\n",
      "[200]\tcv_agg's rmse: 366.587 + 3.78737\n",
      "[300]\tcv_agg's rmse: 367.017 + 3.75832\n",
      "[400]\tcv_agg's rmse: 367.627 + 3.89435\n"
     ]
    },
    {
     "name": "stderr",
     "output_type": "stream",
     "text": [
      "bagging, val_score: 363.698961:  50%|#####     | 5/10 [00:56<00:52, 10.57s/it]"
     ]
    },
    {
     "name": "stdout",
     "output_type": "stream",
     "text": [
      "Early stopping, best iteration is:\n",
      "[240]\tcv_agg's rmse: 363.699 + 3.5037\n",
      "[100]\tcv_agg's rmse: 370.331 + 3.5355\n",
      "[200]\tcv_agg's rmse: 370.213 + 3.73206\n",
      "[300]\tcv_agg's rmse: 371.281 + 3.97228\n",
      "[400]\tcv_agg's rmse: 372.757 + 3.83168\n"
     ]
    },
    {
     "name": "stderr",
     "output_type": "stream",
     "text": [
      "bagging, val_score: 363.698961:  60%|######    | 6/10 [01:06<00:42, 10.61s/it]"
     ]
    },
    {
     "name": "stdout",
     "output_type": "stream",
     "text": [
      "Early stopping, best iteration is:\n",
      "[240]\tcv_agg's rmse: 363.699 + 3.5037\n",
      "[100]\tcv_agg's rmse: 369.56 + 3.50403\n",
      "[200]\tcv_agg's rmse: 368.892 + 3.68457\n",
      "[300]\tcv_agg's rmse: 369.029 + 4.02894\n",
      "[400]\tcv_agg's rmse: 369.734 + 4.24812\n"
     ]
    },
    {
     "name": "stderr",
     "output_type": "stream",
     "text": [
      "bagging, val_score: 363.698961:  70%|#######   | 7/10 [01:15<00:30, 10.15s/it]"
     ]
    },
    {
     "name": "stdout",
     "output_type": "stream",
     "text": [
      "Early stopping, best iteration is:\n",
      "[240]\tcv_agg's rmse: 363.699 + 3.5037\n",
      "[100]\tcv_agg's rmse: 368.784 + 4.11031\n",
      "[200]\tcv_agg's rmse: 368.025 + 3.85324\n",
      "[300]\tcv_agg's rmse: 368.996 + 3.95077\n",
      "[400]\tcv_agg's rmse: 370.437 + 3.57347\n"
     ]
    },
    {
     "name": "stderr",
     "output_type": "stream",
     "text": [
      "bagging, val_score: 363.698961:  80%|########  | 8/10 [01:26<00:20, 10.35s/it]"
     ]
    },
    {
     "name": "stdout",
     "output_type": "stream",
     "text": [
      "Early stopping, best iteration is:\n",
      "[240]\tcv_agg's rmse: 363.699 + 3.5037\n",
      "[100]\tcv_agg's rmse: 369.011 + 2.90073\n",
      "[200]\tcv_agg's rmse: 368.943 + 3.12055\n",
      "[300]\tcv_agg's rmse: 370.071 + 3.30087\n",
      "[400]\tcv_agg's rmse: 370.755 + 3.4345\n"
     ]
    },
    {
     "name": "stderr",
     "output_type": "stream",
     "text": [
      "bagging, val_score: 363.698961:  90%|######### | 9/10 [01:35<00:09,  9.98s/it]"
     ]
    },
    {
     "name": "stdout",
     "output_type": "stream",
     "text": [
      "Early stopping, best iteration is:\n",
      "[240]\tcv_agg's rmse: 363.699 + 3.5037\n",
      "[100]\tcv_agg's rmse: 366.473 + 3.61811\n",
      "[200]\tcv_agg's rmse: 365.356 + 3.67859\n",
      "[300]\tcv_agg's rmse: 366.335 + 3.89727\n",
      "[400]\tcv_agg's rmse: 366.963 + 4.05447\n"
     ]
    },
    {
     "name": "stderr",
     "output_type": "stream",
     "text": [
      "bagging, val_score: 363.698961: 100%|##########| 10/10 [01:48<00:00, 10.85s/it]\n"
     ]
    },
    {
     "name": "stdout",
     "output_type": "stream",
     "text": [
      "Early stopping, best iteration is:\n",
      "[240]\tcv_agg's rmse: 363.699 + 3.5037\n"
     ]
    },
    {
     "name": "stderr",
     "output_type": "stream",
     "text": [
      "feature_fraction_stage2, val_score: 363.698961:   0%|          | 0/3 [00:00<?, ?it/s]"
     ]
    },
    {
     "name": "stdout",
     "output_type": "stream",
     "text": [
      "[100]\tcv_agg's rmse: 366.853 + 3.62884\n",
      "[200]\tcv_agg's rmse: 364.483 + 3.48549\n",
      "[300]\tcv_agg's rmse: 364.662 + 3.87704\n",
      "[400]\tcv_agg's rmse: 364.849 + 3.99098\n"
     ]
    },
    {
     "name": "stderr",
     "output_type": "stream",
     "text": [
      "feature_fraction_stage2, val_score: 363.698961:  33%|###3      | 1/3 [00:08<00:17,  8.59s/it]"
     ]
    },
    {
     "name": "stdout",
     "output_type": "stream",
     "text": [
      "Early stopping, best iteration is:\n",
      "[240]\tcv_agg's rmse: 363.699 + 3.5037\n",
      "[100]\tcv_agg's rmse: 368.687 + 2.77253\n",
      "[200]\tcv_agg's rmse: 366.243 + 3.24125\n",
      "[300]\tcv_agg's rmse: 366.393 + 3.56553\n",
      "[400]\tcv_agg's rmse: 366.904 + 3.56717\n"
     ]
    },
    {
     "name": "stderr",
     "output_type": "stream",
     "text": [
      "feature_fraction_stage2, val_score: 363.698961:  67%|######6   | 2/3 [00:16<00:08,  8.10s/it]"
     ]
    },
    {
     "name": "stdout",
     "output_type": "stream",
     "text": [
      "Early stopping, best iteration is:\n",
      "[240]\tcv_agg's rmse: 363.699 + 3.5037\n",
      "[100]\tcv_agg's rmse: 368.213 + 3.88032\n",
      "[200]\tcv_agg's rmse: 365.836 + 4.1131\n",
      "[300]\tcv_agg's rmse: 365.516 + 3.73689\n",
      "[400]\tcv_agg's rmse: 365.824 + 3.96536\n"
     ]
    },
    {
     "name": "stderr",
     "output_type": "stream",
     "text": [
      "feature_fraction_stage2, val_score: 363.698961: 100%|##########| 3/3 [00:24<00:00,  8.16s/it]\n"
     ]
    },
    {
     "name": "stdout",
     "output_type": "stream",
     "text": [
      "Early stopping, best iteration is:\n",
      "[240]\tcv_agg's rmse: 363.699 + 3.5037\n"
     ]
    },
    {
     "name": "stderr",
     "output_type": "stream",
     "text": [
      "regularization_factors, val_score: 363.698961:   0%|          | 0/20 [00:00<?, ?it/s]"
     ]
    },
    {
     "name": "stdout",
     "output_type": "stream",
     "text": [
      "[100]\tcv_agg's rmse: 366.986 + 3.91455\n",
      "[200]\tcv_agg's rmse: 365.275 + 4.03711\n",
      "[300]\tcv_agg's rmse: 365.459 + 4.45676\n",
      "[400]\tcv_agg's rmse: 365.987 + 4.37608\n"
     ]
    },
    {
     "name": "stderr",
     "output_type": "stream",
     "text": [
      "regularization_factors, val_score: 363.698961:   5%|5         | 1/20 [00:09<03:05,  9.76s/it]"
     ]
    },
    {
     "name": "stdout",
     "output_type": "stream",
     "text": [
      "Early stopping, best iteration is:\n",
      "[240]\tcv_agg's rmse: 363.699 + 3.5037\n",
      "[100]\tcv_agg's rmse: 366.234 + 3.57516\n",
      "[200]\tcv_agg's rmse: 364.193 + 3.64906\n",
      "[300]\tcv_agg's rmse: 364.267 + 3.67311\n",
      "[400]\tcv_agg's rmse: 364.784 + 3.83732\n"
     ]
    },
    {
     "name": "stderr",
     "output_type": "stream",
     "text": [
      "regularization_factors, val_score: 363.698961:  10%|#         | 2/20 [00:18<02:46,  9.28s/it]"
     ]
    },
    {
     "name": "stdout",
     "output_type": "stream",
     "text": [
      "Early stopping, best iteration is:\n",
      "[240]\tcv_agg's rmse: 363.699 + 3.5037\n",
      "[100]\tcv_agg's rmse: 366.459 + 3.3749\n",
      "[200]\tcv_agg's rmse: 364.599 + 3.79557\n",
      "[300]\tcv_agg's rmse: 364.825 + 3.67172\n",
      "[400]\tcv_agg's rmse: 365.479 + 3.8288\n"
     ]
    },
    {
     "name": "stderr",
     "output_type": "stream",
     "text": [
      "regularization_factors, val_score: 363.698961:  15%|#5        | 3/20 [00:29<02:52, 10.12s/it]"
     ]
    },
    {
     "name": "stdout",
     "output_type": "stream",
     "text": [
      "Early stopping, best iteration is:\n",
      "[240]\tcv_agg's rmse: 363.699 + 3.5037\n",
      "[100]\tcv_agg's rmse: 366.966 + 3.80972\n",
      "[200]\tcv_agg's rmse: 365.146 + 4.1541\n",
      "[300]\tcv_agg's rmse: 365.674 + 3.89383\n",
      "[400]\tcv_agg's rmse: 366.116 + 4.06629\n"
     ]
    },
    {
     "name": "stderr",
     "output_type": "stream",
     "text": [
      "regularization_factors, val_score: 363.698961:  20%|##        | 4/20 [00:49<03:40, 13.80s/it]"
     ]
    },
    {
     "name": "stdout",
     "output_type": "stream",
     "text": [
      "Early stopping, best iteration is:\n",
      "[240]\tcv_agg's rmse: 363.699 + 3.5037\n",
      "[100]\tcv_agg's rmse: 366.234 + 3.57516\n",
      "[200]\tcv_agg's rmse: 364.176 + 3.69161\n",
      "[300]\tcv_agg's rmse: 364.341 + 3.67314\n",
      "[400]\tcv_agg's rmse: 364.898 + 3.844\n"
     ]
    },
    {
     "name": "stderr",
     "output_type": "stream",
     "text": [
      "regularization_factors, val_score: 363.698961:  25%|##5       | 5/20 [01:10<04:08, 16.58s/it]"
     ]
    },
    {
     "name": "stdout",
     "output_type": "stream",
     "text": [
      "Early stopping, best iteration is:\n",
      "[240]\tcv_agg's rmse: 363.699 + 3.5037\n",
      "[100]\tcv_agg's rmse: 366.729 + 3.37574\n",
      "[200]\tcv_agg's rmse: 365.213 + 3.74054\n",
      "[300]\tcv_agg's rmse: 365.472 + 3.84704\n",
      "[400]\tcv_agg's rmse: 366.075 + 3.91028\n"
     ]
    },
    {
     "name": "stderr",
     "output_type": "stream",
     "text": [
      "regularization_factors, val_score: 363.698961:  30%|###       | 6/20 [01:29<04:02, 17.33s/it]"
     ]
    },
    {
     "name": "stdout",
     "output_type": "stream",
     "text": [
      "Early stopping, best iteration is:\n",
      "[240]\tcv_agg's rmse: 363.699 + 3.5037\n",
      "[100]\tcv_agg's rmse: 366.548 + 3.35294\n",
      "[200]\tcv_agg's rmse: 364.73 + 3.67362\n",
      "[300]\tcv_agg's rmse: 365.095 + 3.71453\n",
      "[400]\tcv_agg's rmse: 365.661 + 3.88266\n"
     ]
    },
    {
     "name": "stderr",
     "output_type": "stream",
     "text": [
      "regularization_factors, val_score: 363.698961:  35%|###5      | 7/20 [01:50<04:02, 18.66s/it]"
     ]
    },
    {
     "name": "stdout",
     "output_type": "stream",
     "text": [
      "Early stopping, best iteration is:\n",
      "[240]\tcv_agg's rmse: 363.699 + 3.5037\n",
      "[100]\tcv_agg's rmse: 366.155 + 3.68177\n",
      "[200]\tcv_agg's rmse: 364.599 + 3.66654\n",
      "[300]\tcv_agg's rmse: 364.448 + 4.23896\n",
      "[400]\tcv_agg's rmse: 364.906 + 4.17655\n"
     ]
    },
    {
     "name": "stderr",
     "output_type": "stream",
     "text": [
      "regularization_factors, val_score: 363.698961:  40%|####      | 8/20 [02:11<03:50, 19.17s/it]"
     ]
    },
    {
     "name": "stdout",
     "output_type": "stream",
     "text": [
      "Early stopping, best iteration is:\n",
      "[240]\tcv_agg's rmse: 363.699 + 3.5037\n",
      "[100]\tcv_agg's rmse: 366.575 + 3.15994\n",
      "[200]\tcv_agg's rmse: 364.795 + 3.15583\n",
      "[300]\tcv_agg's rmse: 364.468 + 3.27318\n",
      "[400]\tcv_agg's rmse: 364.761 + 3.22495\n"
     ]
    },
    {
     "name": "stderr",
     "output_type": "stream",
     "text": [
      "regularization_factors, val_score: 363.698961:  45%|####5     | 9/20 [02:28<03:25, 18.69s/it]"
     ]
    },
    {
     "name": "stdout",
     "output_type": "stream",
     "text": [
      "Early stopping, best iteration is:\n",
      "[240]\tcv_agg's rmse: 363.699 + 3.5037\n",
      "[100]\tcv_agg's rmse: 366.408 + 3.24126\n",
      "[200]\tcv_agg's rmse: 364.903 + 3.55255\n",
      "[300]\tcv_agg's rmse: 365.062 + 3.38887\n",
      "[400]\tcv_agg's rmse: 365.375 + 3.33575\n"
     ]
    },
    {
     "name": "stderr",
     "output_type": "stream",
     "text": [
      "regularization_factors, val_score: 363.698961:  50%|#####     | 10/20 [02:42<02:50, 17.03s/it]"
     ]
    },
    {
     "name": "stdout",
     "output_type": "stream",
     "text": [
      "Early stopping, best iteration is:\n",
      "[240]\tcv_agg's rmse: 363.699 + 3.5037\n",
      "[100]\tcv_agg's rmse: 366.253 + 3.60716\n",
      "[200]\tcv_agg's rmse: 363.891 + 3.19796\n",
      "[300]\tcv_agg's rmse: 363.899 + 3.70099\n",
      "[400]\tcv_agg's rmse: 364.373 + 3.82969\n"
     ]
    },
    {
     "name": "stderr",
     "output_type": "stream",
     "text": [
      "regularization_factors, val_score: 363.681789:  55%|#####5    | 11/20 [02:53<02:16, 15.20s/it]"
     ]
    },
    {
     "name": "stdout",
     "output_type": "stream",
     "text": [
      "Early stopping, best iteration is:\n",
      "[255]\tcv_agg's rmse: 363.682 + 3.51755\n",
      "[100]\tcv_agg's rmse: 366.253 + 3.60716\n",
      "[200]\tcv_agg's rmse: 363.891 + 3.19796\n",
      "[300]\tcv_agg's rmse: 363.899 + 3.70099\n",
      "[400]\tcv_agg's rmse: 364.373 + 3.82969\n"
     ]
    },
    {
     "name": "stderr",
     "output_type": "stream",
     "text": [
      "regularization_factors, val_score: 363.681788:  60%|######    | 12/20 [03:03<01:49, 13.71s/it]"
     ]
    },
    {
     "name": "stdout",
     "output_type": "stream",
     "text": [
      "Early stopping, best iteration is:\n",
      "[255]\tcv_agg's rmse: 363.682 + 3.51755\n",
      "[100]\tcv_agg's rmse: 366.253 + 3.60716\n",
      "[200]\tcv_agg's rmse: 363.891 + 3.19796\n",
      "[300]\tcv_agg's rmse: 363.899 + 3.70099\n",
      "[400]\tcv_agg's rmse: 364.373 + 3.82969\n"
     ]
    },
    {
     "name": "stderr",
     "output_type": "stream",
     "text": [
      "regularization_factors, val_score: 363.681788:  65%|######5   | 13/20 [03:15<01:32, 13.22s/it]"
     ]
    },
    {
     "name": "stdout",
     "output_type": "stream",
     "text": [
      "Early stopping, best iteration is:\n",
      "[255]\tcv_agg's rmse: 363.682 + 3.51755\n",
      "[100]\tcv_agg's rmse: 366.253 + 3.60716\n",
      "[200]\tcv_agg's rmse: 363.891 + 3.19796\n",
      "[300]\tcv_agg's rmse: 363.899 + 3.70099\n",
      "[400]\tcv_agg's rmse: 364.373 + 3.82969\n"
     ]
    },
    {
     "name": "stderr",
     "output_type": "stream",
     "text": [
      "regularization_factors, val_score: 363.681788:  70%|#######   | 14/20 [03:29<01:21, 13.57s/it]"
     ]
    },
    {
     "name": "stdout",
     "output_type": "stream",
     "text": [
      "Early stopping, best iteration is:\n",
      "[255]\tcv_agg's rmse: 363.682 + 3.51755\n",
      "[100]\tcv_agg's rmse: 366.253 + 3.60716\n",
      "[200]\tcv_agg's rmse: 363.891 + 3.19796\n",
      "[300]\tcv_agg's rmse: 363.899 + 3.70099\n",
      "[400]\tcv_agg's rmse: 364.373 + 3.82969\n"
     ]
    },
    {
     "name": "stderr",
     "output_type": "stream",
     "text": [
      "regularization_factors, val_score: 363.681788:  75%|#######5  | 15/20 [03:39<01:02, 12.42s/it]"
     ]
    },
    {
     "name": "stdout",
     "output_type": "stream",
     "text": [
      "Early stopping, best iteration is:\n",
      "[255]\tcv_agg's rmse: 363.682 + 3.51755\n",
      "[100]\tcv_agg's rmse: 366.253 + 3.60716\n",
      "[200]\tcv_agg's rmse: 363.891 + 3.19797\n",
      "[300]\tcv_agg's rmse: 363.899 + 3.70099\n",
      "[400]\tcv_agg's rmse: 364.373 + 3.82969\n"
     ]
    },
    {
     "name": "stderr",
     "output_type": "stream",
     "text": [
      "regularization_factors, val_score: 363.681782:  80%|########  | 16/20 [04:12<01:14, 18.68s/it]"
     ]
    },
    {
     "name": "stdout",
     "output_type": "stream",
     "text": [
      "Early stopping, best iteration is:\n",
      "[255]\tcv_agg's rmse: 363.682 + 3.51755\n",
      "[100]\tcv_agg's rmse: 366.253 + 3.60716\n",
      "[200]\tcv_agg's rmse: 364.07 + 3.50249\n",
      "[300]\tcv_agg's rmse: 363.941 + 3.76911\n",
      "[400]\tcv_agg's rmse: 364.322 + 3.74687\n"
     ]
    },
    {
     "name": "stderr",
     "output_type": "stream",
     "text": [
      "regularization_factors, val_score: 363.681782:  85%|########5 | 17/20 [04:53<01:15, 25.26s/it]"
     ]
    },
    {
     "name": "stdout",
     "output_type": "stream",
     "text": [
      "Early stopping, best iteration is:\n",
      "[255]\tcv_agg's rmse: 363.682 + 3.51755\n",
      "[100]\tcv_agg's rmse: 366.253 + 3.60716\n",
      "[200]\tcv_agg's rmse: 363.891 + 3.19797\n",
      "[300]\tcv_agg's rmse: 363.899 + 3.70099\n",
      "[400]\tcv_agg's rmse: 364.373 + 3.82969\n"
     ]
    },
    {
     "name": "stderr",
     "output_type": "stream",
     "text": [
      "regularization_factors, val_score: 363.681781:  90%|######### | 18/20 [05:26<00:55, 27.66s/it]"
     ]
    },
    {
     "name": "stdout",
     "output_type": "stream",
     "text": [
      "Early stopping, best iteration is:\n",
      "[255]\tcv_agg's rmse: 363.682 + 3.51755\n",
      "[100]\tcv_agg's rmse: 366.253 + 3.60716\n",
      "[200]\tcv_agg's rmse: 363.891 + 3.19797\n",
      "[300]\tcv_agg's rmse: 363.907 + 3.69073\n",
      "[400]\tcv_agg's rmse: 364.33 + 3.87853\n"
     ]
    },
    {
     "name": "stderr",
     "output_type": "stream",
     "text": [
      "regularization_factors, val_score: 363.681769:  95%|#########5| 19/20 [06:09<00:32, 32.24s/it]"
     ]
    },
    {
     "name": "stdout",
     "output_type": "stream",
     "text": [
      "Early stopping, best iteration is:\n",
      "[255]\tcv_agg's rmse: 363.682 + 3.51755\n",
      "[100]\tcv_agg's rmse: 366.705 + 3.73589\n",
      "[200]\tcv_agg's rmse: 364.474 + 3.67045\n",
      "[300]\tcv_agg's rmse: 364.324 + 3.76966\n",
      "[400]\tcv_agg's rmse: 364.67 + 3.84144\n"
     ]
    },
    {
     "name": "stderr",
     "output_type": "stream",
     "text": [
      "regularization_factors, val_score: 363.681769: 100%|##########| 20/20 [06:32<00:00, 19.62s/it]\n"
     ]
    },
    {
     "name": "stdout",
     "output_type": "stream",
     "text": [
      "Early stopping, best iteration is:\n",
      "[255]\tcv_agg's rmse: 363.682 + 3.51755\n"
     ]
    },
    {
     "name": "stderr",
     "output_type": "stream",
     "text": [
      "min_data_in_leaf, val_score: 363.681769:   0%|          | 0/5 [00:00<?, ?it/s]"
     ]
    },
    {
     "name": "stdout",
     "output_type": "stream",
     "text": [
      "[100]\tcv_agg's rmse: 367.463 + 3.73864\n",
      "[200]\tcv_agg's rmse: 365.67 + 3.69086\n",
      "[300]\tcv_agg's rmse: 365.466 + 3.83809\n",
      "[400]\tcv_agg's rmse: 365.785 + 3.92118\n"
     ]
    },
    {
     "name": "stderr",
     "output_type": "stream",
     "text": [
      "min_data_in_leaf, val_score: 363.681769:  20%|##        | 1/5 [00:22<01:29, 22.50s/it]"
     ]
    },
    {
     "name": "stdout",
     "output_type": "stream",
     "text": [
      "Early stopping, best iteration is:\n",
      "[255]\tcv_agg's rmse: 363.682 + 3.51755\n",
      "[100]\tcv_agg's rmse: 367.731 + 3.10514\n",
      "[200]\tcv_agg's rmse: 366.051 + 3.16869\n",
      "[300]\tcv_agg's rmse: 365.893 + 2.76739\n",
      "[400]\tcv_agg's rmse: 366.193 + 2.9995\n"
     ]
    },
    {
     "name": "stderr",
     "output_type": "stream",
     "text": [
      "min_data_in_leaf, val_score: 363.681769:  40%|####      | 2/5 [00:44<01:06, 22.05s/it]"
     ]
    },
    {
     "name": "stdout",
     "output_type": "stream",
     "text": [
      "Early stopping, best iteration is:\n",
      "[255]\tcv_agg's rmse: 363.682 + 3.51755\n",
      "[100]\tcv_agg's rmse: 365.451 + 3.38808\n",
      "[200]\tcv_agg's rmse: 364.069 + 3.23347\n",
      "[300]\tcv_agg's rmse: 364.433 + 3.73507\n",
      "[400]\tcv_agg's rmse: 365.313 + 4.06635\n"
     ]
    },
    {
     "name": "stderr",
     "output_type": "stream",
     "text": [
      "min_data_in_leaf, val_score: 363.681769:  60%|######    | 3/5 [01:04<00:42, 21.05s/it]"
     ]
    },
    {
     "name": "stdout",
     "output_type": "stream",
     "text": [
      "Early stopping, best iteration is:\n",
      "[255]\tcv_agg's rmse: 363.682 + 3.51755\n",
      "[100]\tcv_agg's rmse: 365.016 + 3.06903\n",
      "[200]\tcv_agg's rmse: 364.027 + 3.69545\n",
      "[300]\tcv_agg's rmse: 364.901 + 3.96817\n",
      "[400]\tcv_agg's rmse: 365.859 + 4.25566\n"
     ]
    },
    {
     "name": "stderr",
     "output_type": "stream",
     "text": [
      "min_data_in_leaf, val_score: 363.681769:  80%|########  | 4/5 [01:28<00:22, 22.29s/it]"
     ]
    },
    {
     "name": "stdout",
     "output_type": "stream",
     "text": [
      "Early stopping, best iteration is:\n",
      "[255]\tcv_agg's rmse: 363.682 + 3.51755\n",
      "[100]\tcv_agg's rmse: 366.197 + 3.04082\n",
      "[200]\tcv_agg's rmse: 364.345 + 3.07216\n",
      "[300]\tcv_agg's rmse: 364.556 + 3.26176\n",
      "[400]\tcv_agg's rmse: 365.075 + 3.48157\n"
     ]
    },
    {
     "name": "stderr",
     "output_type": "stream",
     "text": [
      "min_data_in_leaf, val_score: 363.681769: 100%|##########| 5/5 [01:52<00:00, 22.44s/it]"
     ]
    },
    {
     "name": "stdout",
     "output_type": "stream",
     "text": [
      "Early stopping, best iteration is:\n",
      "[255]\tcv_agg's rmse: 363.682 + 3.51755\n"
     ]
    },
    {
     "name": "stderr",
     "output_type": "stream",
     "text": [
      "\n"
     ]
    }
   ],
   "source": [
    "dtrain = lgb.Dataset(X_train_prep, y_train_t)\n",
    "dtest = lgb.Dataset(X_test_prep, y_test_t)\n",
    "\n",
    "cv = KFold(n_splits=5, shuffle=True, random_state=42)\n",
    "\n",
    "params = {\n",
    "    \"objective\":\"regression\",\n",
    "    \"metric\": \"rmse\",\n",
    "    \"verbosity\":-1,\n",
    "    \"boosting_type\":\"gbdt\",\n",
    "    \"seed\":42\n",
    "}\n",
    "\n",
    "tuner = lgb.LightGBMTunerCV(\n",
    "    params,\n",
    "    dtrain,\n",
    "    folds = cv,\n",
    "    callbacks=[early_stopping(200), log_evaluation(100)]\n",
    ")\n",
    "\n",
    "tuner.run()"
   ]
  },
  {
   "cell_type": "code",
   "execution_count": 18,
   "metadata": {},
   "outputs": [
    {
     "data": {
      "text/plain": [
       "{'objective': 'regression',\n",
       " 'metric': 'rmse',\n",
       " 'verbosity': -1,\n",
       " 'boosting_type': 'gbdt',\n",
       " 'seed': 42,\n",
       " 'feature_pre_filter': False,\n",
       " 'lambda_l1': 0.0004263005438225141,\n",
       " 'lambda_l2': 0.0001458803162939841,\n",
       " 'num_leaves': 59,\n",
       " 'feature_fraction': 1.0,\n",
       " 'bagging_fraction': 1.0,\n",
       " 'bagging_freq': 0,\n",
       " 'min_child_samples': 20}"
      ]
     },
     "execution_count": 18,
     "metadata": {},
     "output_type": "execute_result"
    }
   ],
   "source": [
    "best_params = tuner.best_params\n",
    "best_params"
   ]
  },
  {
   "cell_type": "code",
   "execution_count": 19,
   "metadata": {},
   "outputs": [],
   "source": [
    "# Build model\n",
    "model = lgbm.LGBMRegressor(**params)\n",
    "model.fit(X_train_prep, y_train_t)\n",
    "\n",
    "y_preds = model.predict(X_test_prep)\n",
    "train_preds = model.predict(X_train_prep)"
   ]
  },
  {
   "cell_type": "code",
   "execution_count": 20,
   "metadata": {},
   "outputs": [
    {
     "data": {
      "text/plain": [
       "292.91437178184566"
      ]
     },
     "execution_count": 20,
     "metadata": {},
     "output_type": "execute_result"
    }
   ],
   "source": [
    "# Check test metrics\n",
    "mean_absolute_error(y_test_t, y_preds)"
   ]
  },
  {
   "cell_type": "code",
   "execution_count": 21,
   "metadata": {},
   "outputs": [
    {
     "data": {
      "text/plain": [
       "244.657678792748"
      ]
     },
     "execution_count": 21,
     "metadata": {},
     "output_type": "execute_result"
    }
   ],
   "source": [
    "# Check train metrics\n",
    "mean_absolute_error(y_train_t, train_preds)"
   ]
  },
  {
   "cell_type": "code",
   "execution_count": 22,
   "metadata": {},
   "outputs": [],
   "source": [
    "results = pd.DataFrame(X_test_prep.copy(), columns=X_test_prep.columns)\n",
    "results[\"pred\"] = y_preds\n",
    "results[\"actual\"] = y_test\n",
    "results[\"error\"] = results[\"actual\"] - results[\"pred\"]\n",
    "results = results.reset_index()"
   ]
  },
  {
   "cell_type": "code",
   "execution_count": 23,
   "metadata": {},
   "outputs": [],
   "source": [
    "def plot_model_performance(df):\n",
    "    plt.figure(figsize = (8,4))\n",
    "    # Histogram\n",
    "    plt.subplot(1,2,1)\n",
    "    plt.hist(df[\"error\"], bins=20)\n",
    "    plt.xlabel(\"Forecast Error\")\n",
    "    plt.ylabel(\"Density\")\n",
    "    \n",
    "    # Real - Preds\n",
    "    plt.subplot(1,2,2)\n",
    "    plt.scatter(df.actual, df.pred)\n",
    "    p1 = max(max(df.pred), max(df.actual))\n",
    "    p2 = min(min(df.pred), min(df.actual))\n",
    "    plt.plot([p1, p2], [p1, p2], 'r-')\n",
    "    plt.xlabel('y')\n",
    "    plt.ylabel('y_pred')\n",
    "    \n",
    "    plt.tight_layout()"
   ]
  },
  {
   "cell_type": "code",
   "execution_count": 24,
   "metadata": {},
   "outputs": [
    {
     "data": {
      "image/png": "[encoded data removed]",
      "text/plain": [
       "<Figure size 800x400 with 2 Axes>"
      ]
     },
     "metadata": {},
     "output_type": "display_data"
    }
   ],
   "source": [
    "plot_model_performance(results)"
   ]
  },
  {
   "cell_type": "code",
   "execution_count": 25,
   "metadata": {},
   "outputs": [
    {
     "data": {
      "image/png": "[encoded data removed]",
      "text/plain": [
       "<Figure size 640x480 with 1 Axes>"
      ]
     },
     "metadata": {},
     "output_type": "display_data"
    }
   ],
   "source": [
    "# Plot test predictions\n",
    "results[['timestamp','pred', 'actual']].set_index('timestamp').plot()\n",
    "plt.xlabel('Test timestamp')\n",
    "plt.show()"
   ]
  },
  {
   "cell_type": "code",
   "execution_count": 26,
   "metadata": {},
   "outputs": [],
   "source": [
    "def give_me_metrics(df):\n",
    "    mae_test = mean_absolute_error(df.actual, df.pred)\n",
    "    mse_test = mean_squared_error(df.actual, df.pred)\n",
    "    rmse_test = mean_squared_error(df.actual, df.pred, squared=False)\n",
    "    mape_test = mean_absolute_percentage_error(df.actual, df.pred)\n",
    "    r2_test = r2_score(df.actual, df.pred)\n",
    "\n",
    "    metric_df = pd.DataFrame({'MAE': [mae_test], 'MSE' : [mse_test], 'RMSE' : [rmse_test], 'MAPE': [mape_test], 'R2':[r2_test]})\n",
    "    return metric_df"
   ]
  },
  {
   "cell_type": "code",
   "execution_count": 27,
   "metadata": {},
   "outputs": [
    {
     "data": {
      "text/html": [
       "<div>\n",
       "<style scoped>\n",
       "    .dataframe tbody tr th:only-of-type {\n",
       "        vertical-align: middle;\n",
       "    }\n",
       "\n",
       "    .dataframe tbody tr th {\n",
       "        vertical-align: top;\n",
       "    }\n",
       "\n",
       "    .dataframe thead th {\n",
       "        text-align: right;\n",
       "    }\n",
       "</style>\n",
       "<table border=\"1\" class=\"dataframe\">\n",
       "  <thead>\n",
       "    <tr style=\"text-align: right;\">\n",
       "      <th></th>\n",
       "      <th>MAE</th>\n",
       "      <th>MSE</th>\n",
       "      <th>RMSE</th>\n",
       "      <th>MAPE</th>\n",
       "      <th>R2</th>\n",
       "    </tr>\n",
       "  </thead>\n",
       "  <tbody>\n",
       "    <tr>\n",
       "      <th>0</th>\n",
       "      <td>292.914372</td>\n",
       "      <td>172360.432783</td>\n",
       "      <td>415.16314</td>\n",
       "      <td>0.127069</td>\n",
       "      <td>0.888849</td>\n",
       "    </tr>\n",
       "  </tbody>\n",
       "</table>\n",
       "</div>"
      ],
      "text/plain": [
       "          MAE            MSE       RMSE      MAPE        R2\n",
       "0  292.914372  172360.432783  415.16314  0.127069  0.888849"
      ]
     },
     "execution_count": 27,
     "metadata": {},
     "output_type": "execute_result"
    }
   ],
   "source": [
    "give_me_metrics(results)"
   ]
  },
  {
   "cell_type": "code",
   "execution_count": 62,
   "metadata": {},
   "outputs": [
    {
     "data": {
      "image/png": "[encoded data removed]",
      "text/plain": [
       "<Figure size 1000x700 with 1 Axes>"
      ]
     },
     "metadata": {},
     "output_type": "display_data"
    }
   ],
   "source": [
    "lgbm.plot_importance(model, figsize=(10,7), height=0.9, title=\"Feature Importances\", xlabel=\"Feature importance score\", ylabel=\"Features\")\n",
    "plt.show()"
   ]
  },
  {
   "cell_type": "markdown",
   "metadata": {},
   "source": [
    "# Recursive Forecast"
   ]
  },
  {
   "cell_type": "code",
   "execution_count": 37,
   "metadata": {},
   "outputs": [],
   "source": [
    "# Forecasting 24 hours ahead\n",
    "forecast_point = X_test.index.max() + pd.offsets.Hour(1)\n",
    "forecast_end = forecast_point + pd.offsets.Hour(23)\n",
    "\n",
    "index = pd.date_range(\n",
    "    start= forecast_point,\n",
    "    end= forecast_end,\n",
    "    freq='1H'\n",
    ")\n",
    "\n",
    "f_horizon = pd.DataFrame(columns=['value'], index= index)\n",
    "\n",
    "start_point = forecast_point - pd.offsets.Hour(24)\n",
    "input_data = X_test[(X_test.index >= start_point) & (X_test.index < forecast_point)]\n",
    "\n",
    "input_data.loc[forecast_point] = np.NaN\n",
    "input_data_df = prep_pipeline.transform(input_data)\n",
    "rec_preds = model.predict(input_data_df)\n",
    "\n",
    "f_horizon.loc[forecast_point] = rec_preds\n",
    "input_data.loc[forecast_point] = rec_preds"
   ]
  },
  {
   "cell_type": "code",
   "execution_count": 38,
   "metadata": {},
   "outputs": [
    {
     "data": {
      "text/html": [
       "<div>\n",
       "<style scoped>\n",
       "    .dataframe tbody tr th:only-of-type {\n",
       "        vertical-align: middle;\n",
       "    }\n",
       "\n",
       "    .dataframe tbody tr th {\n",
       "        vertical-align: top;\n",
       "    }\n",
       "\n",
       "    .dataframe thead th {\n",
       "        text-align: right;\n",
       "    }\n",
       "</style>\n",
       "<table border=\"1\" class=\"dataframe\">\n",
       "  <thead>\n",
       "    <tr style=\"text-align: right;\">\n",
       "      <th></th>\n",
       "      <th>day_of_month</th>\n",
       "      <th>year</th>\n",
       "      <th>week</th>\n",
       "      <th>day_of_week</th>\n",
       "      <th>weekend</th>\n",
       "      <th>hour_sin</th>\n",
       "      <th>hour_cos</th>\n",
       "      <th>month_sin</th>\n",
       "      <th>month_cos</th>\n",
       "      <th>day_of_year_sin</th>\n",
       "      <th>...</th>\n",
       "      <th>value_corrected_lag_16</th>\n",
       "      <th>value_corrected_lag_17</th>\n",
       "      <th>value_corrected_lag_18</th>\n",
       "      <th>value_corrected_lag_19</th>\n",
       "      <th>value_corrected_lag_20</th>\n",
       "      <th>value_corrected_lag_21</th>\n",
       "      <th>value_corrected_lag_22</th>\n",
       "      <th>value_corrected_lag_23</th>\n",
       "      <th>value_corrected_lag_24</th>\n",
       "      <th>value_corrected_window_24_mean</th>\n",
       "    </tr>\n",
       "    <tr>\n",
       "      <th>timestamp</th>\n",
       "      <th></th>\n",
       "      <th></th>\n",
       "      <th></th>\n",
       "      <th></th>\n",
       "      <th></th>\n",
       "      <th></th>\n",
       "      <th></th>\n",
       "      <th></th>\n",
       "      <th></th>\n",
       "      <th></th>\n",
       "      <th></th>\n",
       "      <th></th>\n",
       "      <th></th>\n",
       "      <th></th>\n",
       "      <th></th>\n",
       "      <th></th>\n",
       "      <th></th>\n",
       "      <th></th>\n",
       "      <th></th>\n",
       "      <th></th>\n",
       "      <th></th>\n",
       "    </tr>\n",
       "  </thead>\n",
       "  <tbody>\n",
       "    <tr>\n",
       "      <th>2018-12-31 00:00:00+01:00</th>\n",
       "      <td>30</td>\n",
       "      <td>2018</td>\n",
       "      <td>52</td>\n",
       "      <td>6</td>\n",
       "      <td>1</td>\n",
       "      <td>-2.449294e-16</td>\n",
       "      <td>1.0</td>\n",
       "      <td>-2.449294e-16</td>\n",
       "      <td>1.0</td>\n",
       "      <td>-0.034328</td>\n",
       "      <td>...</td>\n",
       "      <td>930.0</td>\n",
       "      <td>860.0</td>\n",
       "      <td>736.0</td>\n",
       "      <td>678.0</td>\n",
       "      <td>785.0</td>\n",
       "      <td>730.0</td>\n",
       "      <td>710.0</td>\n",
       "      <td>818.0</td>\n",
       "      <td>1203.0</td>\n",
       "      <td>1932.1875</td>\n",
       "    </tr>\n",
       "  </tbody>\n",
       "</table>\n",
       "<p>1 rows × 38 columns</p>\n",
       "</div>"
      ],
      "text/plain": [
       "                           day_of_month  year  week  day_of_week  weekend  \\\n",
       "timestamp                                                                   \n",
       "2018-12-31 00:00:00+01:00            30  2018    52            6        1   \n",
       "\n",
       "                               hour_sin  hour_cos     month_sin  month_cos  \\\n",
       "timestamp                                                                    \n",
       "2018-12-31 00:00:00+01:00 -2.449294e-16       1.0 -2.449294e-16        1.0   \n",
       "\n",
       "                           day_of_year_sin  ...  value_corrected_lag_16  \\\n",
       "timestamp                                   ...                           \n",
       "2018-12-31 00:00:00+01:00        -0.034328  ...                   930.0   \n",
       "\n",
       "                           value_corrected_lag_17  value_corrected_lag_18  \\\n",
       "timestamp                                                                   \n",
       "2018-12-31 00:00:00+01:00                   860.0                   736.0   \n",
       "\n",
       "                           value_corrected_lag_19  value_corrected_lag_20  \\\n",
       "timestamp                                                                   \n",
       "2018-12-31 00:00:00+01:00                   678.0                   785.0   \n",
       "\n",
       "                           value_corrected_lag_21  value_corrected_lag_22  \\\n",
       "timestamp                                                                   \n",
       "2018-12-31 00:00:00+01:00                   730.0                   710.0   \n",
       "\n",
       "                           value_corrected_lag_23  value_corrected_lag_24  \\\n",
       "timestamp                                                                   \n",
       "2018-12-31 00:00:00+01:00                   818.0                  1203.0   \n",
       "\n",
       "                           value_corrected_window_24_mean  \n",
       "timestamp                                                  \n",
       "2018-12-31 00:00:00+01:00                       1932.1875  \n",
       "\n",
       "[1 rows x 38 columns]"
      ]
     },
     "execution_count": 38,
     "metadata": {},
     "output_type": "execute_result"
    }
   ],
   "source": [
    "input_data_df"
   ]
  },
  {
   "cell_type": "code",
   "execution_count": 39,
   "metadata": {},
   "outputs": [],
   "source": [
    "for i in range(23):\n",
    "    \n",
    "    # Re-slice the input data\n",
    "    start_point = start_point + pd.offsets.Hour(1)\n",
    "    forecast_point = forecast_point + pd.offsets.Hour(1)\n",
    "\n",
    "    input_data = input_data[(input_data.index >= start_point)]\n",
    "    input_data.loc[forecast_point] = np.nan\n",
    "\n",
    "    # Obtain the prediction\n",
    "    pred = model.predict(prep_pipeline.transform(input_data))\n",
    "\n",
    "    # Add prediction to horizon.\n",
    "    f_horizon.loc[forecast_point] = pred\n",
    "    input_data.loc[forecast_point] = pred\n",
    "\n",
    "f_horizon.index.name = \"timestmap\""
   ]
  },
  {
   "cell_type": "code",
   "execution_count": 45,
   "metadata": {},
   "outputs": [],
   "source": [
    "forecast_results = f_horizon.merge(out_of_sample_df, right_on=\"timestamp\", left_index=True) \\\n",
    "                            .rename(columns={\"value\": \"pred\", \"value_corrected\": \"actual\"})"
   ]
  },
  {
   "cell_type": "code",
   "execution_count": 49,
   "metadata": {},
   "outputs": [
    {
     "data": {
      "text/plain": [
       "<Axes: xlabel='timestamp'>"
      ]
     },
     "execution_count": 49,
     "metadata": {},
     "output_type": "execute_result"
    },
    {
     "data": {
      "image/png": "[encoded data removed]",
      "text/plain": [
       "<Figure size 640x480 with 1 Axes>"
      ]
     },
     "metadata": {},
     "output_type": "display_data"
    }
   ],
   "source": [
    "forecast_results.set_index(\"timestamp\").plot()"
   ]
  },
  {
   "cell_type": "code",
   "execution_count": 50,
   "metadata": {},
   "outputs": [
    {
     "data": {
      "text/html": [
       "<div>\n",
       "<style scoped>\n",
       "    .dataframe tbody tr th:only-of-type {\n",
       "        vertical-align: middle;\n",
       "    }\n",
       "\n",
       "    .dataframe tbody tr th {\n",
       "        vertical-align: top;\n",
       "    }\n",
       "\n",
       "    .dataframe thead th {\n",
       "        text-align: right;\n",
       "    }\n",
       "</style>\n",
       "<table border=\"1\" class=\"dataframe\">\n",
       "  <thead>\n",
       "    <tr style=\"text-align: right;\">\n",
       "      <th></th>\n",
       "      <th>MAE</th>\n",
       "      <th>MSE</th>\n",
       "      <th>RMSE</th>\n",
       "      <th>MAPE</th>\n",
       "      <th>R2</th>\n",
       "    </tr>\n",
       "  </thead>\n",
       "  <tbody>\n",
       "    <tr>\n",
       "      <th>0</th>\n",
       "      <td>581.9282</td>\n",
       "      <td>538248.175864</td>\n",
       "      <td>733.653989</td>\n",
       "      <td>0.280171</td>\n",
       "      <td>0.459504</td>\n",
       "    </tr>\n",
       "  </tbody>\n",
       "</table>\n",
       "</div>"
      ],
      "text/plain": [
       "        MAE            MSE        RMSE      MAPE        R2\n",
       "0  581.9282  538248.175864  733.653989  0.280171  0.459504"
      ]
     },
     "execution_count": 50,
     "metadata": {},
     "output_type": "execute_result"
    }
   ],
   "source": [
    "# Metrics\n",
    "give_me_metrics(forecast_results)"
   ]
  },
  {
   "cell_type": "code",
   "execution_count": null,
   "metadata": {},
   "outputs": [],
   "source": []
  }
 ],
 "metadata": {
  "kernelspec": {
   "display_name": "energy_env",
   "language": "python",
   "name": "python3"
  },
  "language_info": {
   "codemirror_mode": {
    "name": "ipython",
    "version": 3
   },
   "file_extension": ".py",
   "mimetype": "text/x-python",
   "name": "python",
   "nbconvert_exporter": "python",
   "pygments_lexer": "ipython3",
   "version": "3.10.6"
  },
  "orig_nbformat": 4,
  "vscode": {
   "interpreter": {
    "hash": "3612b25fc2aa0de23273954ffef35af53e1f71d00e9716921a1b8ada2b373b10"
   }
  }
 },
 "nbformat": 4,
 "nbformat_minor": 2
}
